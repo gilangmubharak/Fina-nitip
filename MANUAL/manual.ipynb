{
 "cells": [
  {
   "cell_type": "code",
   "execution_count": null,
   "metadata": {},
   "outputs": [],
   "source": [
    "import numpy as np\n",
    "#  Membaca file CSV\n",
    "def read_csv(file_path):\n",
    "    data = []\n",
    "    with open(file_path, 'r') as file:\n",
    "        lines = file.readlines()\n",
    "        for line in lines:\n",
    "            data.append(line.strip().split(','))\n",
    "    return data\n",
    "   \n",
    "# Menjalankan fungsi untuk membaca data CSV\n",
    "csv_file_path = 'DATA MHS.csv'  # Ganti dengan path file CSV Anda\n",
    "data = read_csv('DATA MHS.csv')\n",
    "\n",
    "# Menampilkan data yang sudah dibaca\n",
    "for row in data:\n",
    "    print(row)\n"
   ]
  },
  {
   "cell_type": "code",
   "execution_count": null,
   "metadata": {},
   "outputs": [],
   "source": [
    "# Memisahkan atribut (X) dan label (y)\n",
    "def separate_attributes_and_labels(data):\n",
    "    X = []\n",
    "    y = []\n",
    "    for row in data:\n",
    "        attributes = row[1:7]  # Kolom \"nama\", \"nim\", \"nilai_sok\", dan \"nilai_data_mining\"\n",
    "        label = row[-1]\n",
    "          # Kolom \"label\"\n",
    "        X.append(attributes)\n",
    "        y.append(label)\n",
    "    return X, y\n",
    "# Memisahkan atribut (X) dan label (y)\n",
    "X, y = separate_attributes_and_labels(data)\n",
    "\n",
    "# Menampilkan atribut (X) dan label (y)\n",
    "print(\"Atribut (X):\")\n",
    "for row in X:\n",
    "    print(row)\n",
    "\n",
    "print(\"\\nLabel (y):\")\n",
    "for label in y:\n",
    "    print(label)"
   ]
  },
  {
   "cell_type": "code",
   "execution_count": null,
   "metadata": {},
   "outputs": [],
   "source": [
    "import math\n",
    "def setMaxMinData(self, maxD, minD):\n",
    "    self.normalMax = maxD\n",
    "    self.normalMin = minD\n",
    "def generateMinMaxData(self):\n",
    "    self.normalMax = self.generateNormal(len(self.data[0])-1, -99999999)\n",
    "    self.normalMin = self.generateNormal(len(self.data[0])-1, 99999999)\n",
    "    for i in self.data:\n",
    "        for j in range(len(i)-1):\n",
    "            if self.normalMax[j] < i[j]:\n",
    "                self.normalMax[j] = i[j]\n",
    "            if self.normalMin[j] > i[j]:\n",
    "                self.normalMin[j] = i[j]\n",
    "\n",
    "def normalizeData(self):\n",
    "    self.dataNormal = []\n",
    "    for i in range(len(self.data)):\n",
    "        temp = []\n",
    "        for j in range(len(self.data[i])-1):\n",
    "            temp.append((self.data[i][j] - self.normalMin[j]) / ((self.normalMax[j] - self.normalMin[j]) * 1.0))\n",
    "        self.dataNormal.append(temp)\n",
    "def generateAlpha(self):\n",
    "    self.alphaList = []\n",
    "    self.deltaAlpha = []\n",
    "    self.Error = []\n",
    "    for i in range(len(self.dataNormal)):\n",
    "        self.alphaList.append(self.alpha)\n",
    "        self.deltaAlpha.append(1)\n",
    "        self.Error.append(0)\n",
    "def CalculateKernel(self, x, y):\n",
    "    result = 0\n",
    "    for idx in range(len(x)):\n",
    "        result += x[idx] * y[idx]\n",
    "    result = math.pow(result + self.constanta, 2)\n",
    "    return result\n",
    "def CalculateHessian(self, kelasX, kelasY, x, y):\n",
    "    return kelasX * kelasY * (self.CalculateKernel(x, y) + math.pow(self.lambd, 2))\n"
   ]
  },
  {
   "cell_type": "code",
   "execution_count": null,
   "metadata": {},
   "outputs": [],
   "source": [
    "def getKelasData(self):\n",
    "    for i in self.data:\n",
    "        self.classified.append(i[-1])\n",
    "def Hessian(self):\n",
    "    self.getKelasData()\n",
    "    result = []\n",
    "    for i in range(len(self.dataNormal)):\n",
    "        temp_result_in_line = []\n",
    "        for j in range(len(self.dataNormal)):\n",
    "            temp_result_in_line.append(\n",
    "                self.CalculateHessian(self.classified[i], self.classified[j], self.dataNormal[i], self.dataNormal[j])\n",
    "            )\n",
    "        result.append(temp_result_in_line)\n",
    "    self.Hessian_Matrix = result\n",
    "def calculateE(self, D, a):\n",
    "    E = 0\n",
    "    for i in range(len(D)):\n",
    "        E += a[i] * D[i] * 1.0\n",
    "    return E\n",
    "        \n"
   ]
  },
  {
   "cell_type": "code",
   "execution_count": null,
   "metadata": {},
   "outputs": [],
   "source": [
    "def calculateDeltaAlpha(self, E, a):\n",
    "    deltaAlpha = min(max(self.gamma * (1.0 - E), a), self.constanta - a)\n",
    "    return deltaAlpha\n"
   ]
  },
  {
   "cell_type": "code",
   "execution_count": null,
   "metadata": {},
   "outputs": [],
   "source": [
    "def generateAlpha(self):\n",
    "    self.alphaList = []\n",
    "    self.deltaAlpha = []\n",
    "    self.Error = []\n",
    "    for i in range(len(self.dataNormal)):\n",
    "        self.alphaList.append(self.alpha)\n",
    "        self.deltaAlpha.append(1)\n",
    "        self.Error.append(0)\n",
    "\n",
    "def updateAlpha(self, deltaA, a):\n",
    "    return a + deltaA\n"
   ]
  },
  {
   "cell_type": "code",
   "execution_count": null,
   "metadata": {},
   "outputs": [],
   "source": [
    "def calculateFX(self, indexPN):\n",
    "    hasil = 0\n",
    "    for i in range(len(self.alphaList)):\n",
    "        hasil += self.alphaList[i] * self.classified[i] * self.Hessian_Matrix[indexPN][i]\n",
    "    return hasil\n",
    "\n",
    "def calculateB(self):\n",
    "    hasil = 0\n",
    "    for i in self.indexPN:\n",
    "        hasil += self.calculateFX(i)\n",
    "    hasil = hasil * (-0.5)\n",
    "    print(\"B\",hasil)\n",
    "    return hasil"
   ]
  },
  {
   "cell_type": "code",
   "execution_count": null,
   "metadata": {},
   "outputs": [],
   "source": [
    "def generateMatrixKernel(self, xTest):\n",
    "    mat_ = []\n",
    "    for i in self.dataNormal:\n",
    "        mat_.append(self.CalculateKernel(i, xTest))\n",
    "\n",
    "    # print(\"matkernel\", mat_)\n",
    "    print(\"matkernel\", mat_)\n",
    "    return mat_\n"
   ]
  },
  {
   "cell_type": "code",
   "execution_count": 19,
   "metadata": {},
   "outputs": [
    {
     "name": "stdout",
     "output_type": "stream",
     "text": [
      "Akurasi: 100.00%\n"
     ]
    }
   ],
   "source": [
    "# Data aktual (ground truth)\n",
    "# y_true = [1, 1, 1, -1, 1, 1, 1, -1, 1, 1]\n",
    "\n",
    "# # Prediksi model\n",
    "# y_pred = [1, -1, 1, 1, 1, 1, 1, -1, 1, 1]\n",
    "\n",
    "y_true = [1, 1, 1, -1, 1, 1, 1, -1, 1, 1]\n",
    "y_pred = [1, 1, 1, -1, 1, 1, 1, -1, 1, 1]\n",
    "\n",
    "# Menghitung jumlah prediksi yang benar\n",
    "correct_predictions = 0\n",
    "total_predictions = len(y_true)\n",
    "\n",
    "for i in range(total_predictions):\n",
    "    if y_true[i] == y_pred[i]:\n",
    "        correct_predictions += 1\n",
    "\n",
    "# Menghitung akurasi\n",
    "accuracy = correct_predictions / total_predictions\n",
    "\n",
    "print(f'Akurasi: {accuracy * 100:.2f}%')\n",
    "\n"
   ]
  },
  {
   "cell_type": "code",
   "execution_count": null,
   "metadata": {},
   "outputs": [],
   "source": [
    "\n",
    "import pickle\n",
    "filename = 'model_svm'\n",
    "\n",
    "\n",
    "pickle.dump(open(filename,'wb'))"
   ]
  },
  {
   "cell_type": "code",
   "execution_count": null,
   "metadata": {},
   "outputs": [],
   "source": []
  }
 ],
 "metadata": {
  "kernelspec": {
   "display_name": "Python 3.10.11 64-bit",
   "language": "python",
   "name": "python3"
  },
  "language_info": {
   "codemirror_mode": {
    "name": "ipython",
    "version": 3
   },
   "file_extension": ".py",
   "mimetype": "text/x-python",
   "name": "python",
   "nbconvert_exporter": "python",
   "pygments_lexer": "ipython3",
   "version": "3.10.11"
  },
  "orig_nbformat": 4,
  "vscode": {
   "interpreter": {
    "hash": "afb734500600fd355917ca529030176ea0ca205570884b88f2f6f7d791fd3fbe"
   }
  }
 },
 "nbformat": 4,
 "nbformat_minor": 2
}
